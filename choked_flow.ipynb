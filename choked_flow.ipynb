{
  "nbformat": 4,
  "nbformat_minor": 0,
  "metadata": {
    "colab": {
      "provenance": [],
      "authorship_tag": "ABX9TyNuwaTgZdA7caMRuNYXnDaZ",
      "include_colab_link": true
    },
    "kernelspec": {
      "name": "python3",
      "display_name": "Python 3"
    },
    "language_info": {
      "name": "python"
    }
  },
  "cells": [
    {
      "cell_type": "markdown",
      "metadata": {
        "id": "view-in-github",
        "colab_type": "text"
      },
      "source": [
        "<a href=\"https://colab.research.google.com/github/songhakim/Drogue_gun_choked_flow/blob/main/choked_flow.ipynb\" target=\"_parent\"><img src=\"https://colab.research.google.com/assets/colab-badge.svg\" alt=\"Open In Colab\"/></a>"
      ]
    },
    {
      "cell_type": "code",
      "execution_count": 189,
      "metadata": {
        "id": "jZFsjm3qB8_u"
      },
      "outputs": [],
      "source": [
        "import numpy as np\n",
        "import scipy as sp\n",
        "import math\n",
        "import matplotlib\n",
        "import matplotlib.pyplot as plt"
      ]
    },
    {
      "cell_type": "code",
      "source": [
        "# Set up some example parameters to test\n",
        "R = 287 #specific gas constant of air (J/kgK)\n",
        "Tt  = T = 233 # -40 degree at 30 km, assumed isothermal\n",
        "A = 0.01227 # cross-sectional area (m3)\n",
        "gamma = 1.4 \n",
        "vt = 1.18 * 10** (-4) # tank volume (m3) typical 88g co2 cartridges volume(118ml)\n",
        "pt0 = 60* 10**5 # initial tank pressure (pa)\n",
        "mt0 = pt0 * vt / (R * Tt)\n",
        "print(\"initial m_gas in tank: \", mt0, \"kg\")\n",
        "m_slug = 0.6 #(kg)\n",
        "c = A * math.sqrt(gamma/(Tt*R)) * ((gamma + 1)/2)**((gamma + 1)/(2*(1- gamma))) # assumed choked flow: mdot = c * pressure in tank\n",
        "print(\"c= \", c)\n",
        "alpha = R * Tt / vt\n",
        "L = 0.4\n",
        "print(c*alpha*mt0)\n"
      ],
      "metadata": {
        "colab": {
          "base_uri": "https://localhost:8080/"
        },
        "id": "AfSE7JkspZfX",
        "outputId": "dd44fd66-6a7b-45e7-9617-f379955177a0"
      },
      "execution_count": 190,
      "outputs": [
        {
          "output_type": "stream",
          "name": "stdout",
          "text": [
            "initial m_gas in tank:  0.010587549161819025 kg\n",
            "c=  3.248971738014228e-05\n",
            "194.93830428085369\n"
          ]
        }
      ]
    },
    {
      "cell_type": "code",
      "source": [
        "N = np.int16(1e6)\n",
        "t = np.linspace(0.00,0.07,N)\n",
        "dt = t.max() / N\n",
        "#print(dt)\n",
        "\n",
        "x     = np.zeros(N)\n",
        "xdot  = np.zeros(N)\n",
        "xdotdot = np.zeros(N)\n",
        "m_barrel = np.zeros(N)\n",
        "p_barrel = np.zeros(N)\n",
        "\n",
        "x[0] = 0.01 #10mm\n",
        "xdot[0] = 0\n",
        "xdotdot[0] = 0\n",
        "p_barrel[0] = 1197 #(pa)\n",
        "m_barrel[0] = 2.196 * 10**(-5) # m = P(Ax0)/RT \n",
        "s = 0.5 # scale factor (real mass flow/Ideal mass flow)\n",
        "\n",
        "for i in range(1, N):\n",
        "  m_barrel[i] = s* c * alpha * mt0 * math.log(1 + t[i])\n",
        "  p_barrel[i] = m_barrel[i] * R * T / (A * x[i-1])\n",
        "  xdotdot[i] = m_barrel[i] * R * T / (x[i-1] * m_slug)\n",
        "  xdot[i] = xdot[i-1] + dt * xdotdot[i]\n",
        "  x[i] = x[i-1] + xdot[i] * dt\n",
        "  if (L <= x[i] < L + 0.01):\n",
        "    print(t[i])\n"
      ],
      "metadata": {
        "colab": {
          "base_uri": "https://localhost:8080/"
        },
        "id": "-TGL6tRaQ0S0",
        "outputId": "0a1f1e51-4df9-40c1-dbce-1fab00910992"
      },
      "execution_count": 202,
      "outputs": [
        {
          "output_type": "stream",
          "name": "stdout",
          "text": [
            "0.002369243469544195\n",
            "0.0023733710714075123\n",
            "0.0023774986732708297\n",
            "0.002381626275134147\n",
            "0.0023857538769974647\n",
            "0.0023898814788607817\n",
            "0.002394009080724099\n",
            "0.0023981366825874166\n",
            "0.002402264284450734\n"
          ]
        }
      ]
    },
    {
      "cell_type": "code",
      "source": [
        "# Creating figure object\n",
        "plt.figure()\n",
        "max_time = 0.005 # 50ms\n",
        "\n",
        "plt.subplot(2,2,1)\n",
        "plt.plot(t, p_barrel, color=\"red\", label = \"pressure\")\n",
        "plt.legend()\n",
        "plt.xlim([0,max_time])\n",
        "\n",
        "plt.subplot(2,2,2)\n",
        "plt.plot(t, xdotdot, color=\"blue\", label = \"accel\")\n",
        "plt.legend()\n",
        "plt.xlim([0,max_time])\n",
        "\n",
        "plt.subplot(2,2,3)\n",
        "plt.plot(t, xdot, color=\"green\", label = \"vel\")\n",
        "plt.legend()\n",
        "plt.xlim([0,max_time])\n",
        "\n",
        "plt.subplot(2,2,4)\n",
        "plt.plot(t, x, color=\"purple\", label = \"distance\")\n",
        "plt.legend()\n",
        "plt.xlim([0,max_time])\n",
        "plt.ylim([0, L])\n",
        "\n",
        "#gas leakage, barrel expansion, valve imperfection/response time, friction will lower the pressure, velocity and accel"
      ],
      "metadata": {
        "colab": {
          "base_uri": "https://localhost:8080/",
          "height": 296
        },
        "id": "efczl7c8Y8SP",
        "outputId": "cdc3ed89-c5cc-486d-9f59-171cd941eace"
      },
      "execution_count": 204,
      "outputs": [
        {
          "output_type": "execute_result",
          "data": {
            "text/plain": [
              "(0.0, 0.4)"
            ],
            "image/png": "[encoded data removed]",
            "text/latex": "$\\displaystyle \\left( 0.0, \\  0.4\\right)$"
          },
          "metadata": {},
          "execution_count": 204
        },
        {
          "output_type": "display_data",
          "data": {
            "text/plain": [
              "<Figure size 432x288 with 4 Axes>"
            ],
            "image/png": "[encoded data removed]"
          },
          "metadata": {
            "needs_background": "light"
          }
        }
      ]
    }
  ]
}